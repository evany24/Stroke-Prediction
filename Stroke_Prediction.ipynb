{
  "nbformat": 4,
  "nbformat_minor": 0,
  "metadata": {
    "colab": {
      "provenance": [],
      "mount_file_id": "1nHjR4YZSiWxyM1GYMfC88OZvN2rm9qnb",
      "authorship_tag": "ABX9TyO7YFdQ6bY66ycBHx93qWFN",
      "include_colab_link": true
    },
    "kernelspec": {
      "name": "python3",
      "display_name": "Python 3"
    },
    "language_info": {
      "name": "python"
    }
  },
  "cells": [
    {
      "cell_type": "markdown",
      "metadata": {
        "id": "view-in-github",
        "colab_type": "text"
      },
      "source": [
        "<a href=\"https://colab.research.google.com/github/evany24/Stroke-Prediction/blob/main/Stroke_Prediction.ipynb\" target=\"_parent\"><img src=\"https://colab.research.google.com/assets/colab-badge.svg\" alt=\"Open In Colab\"/></a>"
      ]
    },
    {
      "cell_type": "markdown",
      "source": [
        "Your task for this week is to propose two possible datasets you would like to work with for Project 2 and indicate which is your first and which is your second choice.  "
      ],
      "metadata": {
        "id": "JG4Jxgk1b_Ms"
      }
    },
    {
      "cell_type": "markdown",
      "source": [
        "#**First Choice Dataset**"
      ],
      "metadata": {
        "id": "hcARSTjTcysr"
      }
    },
    {
      "cell_type": "markdown",
      "source": [
        "## About the first choice dataset"
      ],
      "metadata": {
        "id": "95SzWpivd_yf"
      }
    },
    {
      "cell_type": "markdown",
      "source": [
        "According to the World Health Organization (WHO) stroke is the 2nd leading cause of death globally, responsible for approximately 11% of total deaths.\n",
        "This dataset is used to predict whether a patient is likely to get stroke based on the input parameters like gender, age, various diseases, and smoking status. Each row in the data provides relavant information about the patient.\n",
        "\n",
        "Attribute Information\n",
        "1) id: unique identifier\n",
        "2) gender: \"Male\", \"Female\" or \"Other\"\n",
        "3) age: age of the patient\n",
        "4) hypertension: 0 if the patient doesn't have hypertension, 1 if the patient has hypertension\n",
        "5) heart_disease: 0 if the patient doesn't have any heart diseases, 1 if the patient has a heart disease\n",
        "6) ever_married: \"No\" or \"Yes\"\n",
        "7) work_type: \"children\", \"Govt_jov\", \"Never_worked\", \"Private\" or \"Self-employed\"\n",
        "8) Residence_type: \"Rural\" or \"Urban\"\n",
        "9) avg_glucose_level: average glucose level in blood\n",
        "10) bmi: body mass index\n",
        "11) smoking_status: \"formerly smoked\", \"never smoked\", \"smokes\" or \"Unknown\"*\n",
        "12) stroke: 1 if the patient had a stroke or 0 if not\n",
        "*Note: \"Unknown\" in smoking_status means that the information is unavailable for this patient"
      ],
      "metadata": {
        "id": "O1X1aDRXcsNB"
      }
    },
    {
      "cell_type": "markdown",
      "source": [
        "*   Source: Kaggle Stroke Prediction Dataset\n",
        "*   Data: [Stroke Prediction CSV](https://github.com/evany24/Stroke-Prediction/blob/main/healthcare-dataset-stroke-data.csv)\n",
        "\n"
      ],
      "metadata": {
        "id": "D6RdbpNCdF5D"
      }
    },
    {
      "cell_type": "markdown",
      "source": [
        "**Target:** Stroke or no stroke\n",
        "\n",
        "**What does one row represent?** A person\n",
        "\n",
        "**Is this a classification or regression problem?** Classification"
      ],
      "metadata": {
        "id": "TQuvIZZad5Eg"
      }
    },
    {
      "cell_type": "code",
      "execution_count": 1,
      "metadata": {
        "id": "_IEmYHY6br6g"
      },
      "outputs": [],
      "source": [
        "#imports\n",
        "import pandas as pd"
      ]
    },
    {
      "cell_type": "code",
      "source": [
        "#load data\n",
        "df_stroke = pd.read_csv('/content/drive/MyDrive/healthcare-dataset-stroke-data.csv')\n",
        "df_stroke.info()"
      ],
      "metadata": {
        "colab": {
          "base_uri": "https://localhost:8080/"
        },
        "id": "MacgOHoGfEqH",
        "outputId": "4d2a1ef9-40a6-49ba-8651-01bb6e51e4c2"
      },
      "execution_count": 2,
      "outputs": [
        {
          "output_type": "stream",
          "name": "stdout",
          "text": [
            "<class 'pandas.core.frame.DataFrame'>\n",
            "RangeIndex: 5110 entries, 0 to 5109\n",
            "Data columns (total 12 columns):\n",
            " #   Column             Non-Null Count  Dtype  \n",
            "---  ------             --------------  -----  \n",
            " 0   id                 5110 non-null   int64  \n",
            " 1   gender             5110 non-null   object \n",
            " 2   age                5110 non-null   float64\n",
            " 3   hypertension       5110 non-null   int64  \n",
            " 4   heart_disease      5110 non-null   int64  \n",
            " 5   ever_married       5110 non-null   object \n",
            " 6   work_type          5110 non-null   object \n",
            " 7   Residence_type     5110 non-null   object \n",
            " 8   avg_glucose_level  5110 non-null   float64\n",
            " 9   bmi                4909 non-null   float64\n",
            " 10  smoking_status     5110 non-null   object \n",
            " 11  stroke             5110 non-null   int64  \n",
            "dtypes: float64(3), int64(4), object(5)\n",
            "memory usage: 479.2+ KB\n"
          ]
        }
      ]
    },
    {
      "cell_type": "markdown",
      "source": [
        "**How many features does the data have? How many rows?**"
      ],
      "metadata": {
        "id": "ofPO2DzNe5Kl"
      }
    },
    {
      "cell_type": "code",
      "source": [
        "#display rows and columns\n",
        "df_stroke.shape\n",
        "print(f'There are {df_stroke.shape[0]} rows and {df_stroke.shape[1]} columns')\n",
        "print(f'The {df_stroke.shape[0]} rows represent the data values of the features and target.\\nThe columns represent {df_stroke.shape[1]-1} features and the target stroke.')"
      ],
      "metadata": {
        "colab": {
          "base_uri": "https://localhost:8080/"
        },
        "id": "44O7kXI6fes8",
        "outputId": "9529346d-6a9f-4203-eeaa-1168a2089f0c"
      },
      "execution_count": 8,
      "outputs": [
        {
          "output_type": "stream",
          "name": "stdout",
          "text": [
            "There are 5110 rows and 12 columns\n",
            "The 5110 rows represent the data values of the features and target.\n",
            "The columns represent 11 features and the target stroke.\n"
          ]
        }
      ]
    },
    {
      "cell_type": "code",
      "source": [
        "#target column numbers\n",
        "df_stroke['stroke'].value_counts()"
      ],
      "metadata": {
        "colab": {
          "base_uri": "https://localhost:8080/"
        },
        "id": "HoopuljDkSJl",
        "outputId": "f3cdd23e-ca6c-459c-c74f-44faae2144f8"
      },
      "execution_count": 13,
      "outputs": [
        {
          "output_type": "execute_result",
          "data": {
            "text/plain": [
              "0    4861\n",
              "1     249\n",
              "Name: stroke, dtype: int64"
            ]
          },
          "metadata": {},
          "execution_count": 13
        }
      ]
    },
    {
      "cell_type": "code",
      "source": [
        "#missing values\n",
        "df_stroke.isna().sum()"
      ],
      "metadata": {
        "colab": {
          "base_uri": "https://localhost:8080/"
        },
        "id": "KiDblFTnlFsw",
        "outputId": "368b4064-3add-4f20-9fe6-cf429448dc1d"
      },
      "execution_count": 16,
      "outputs": [
        {
          "output_type": "execute_result",
          "data": {
            "text/plain": [
              "id                     0\n",
              "gender                 0\n",
              "age                    0\n",
              "hypertension           0\n",
              "heart_disease          0\n",
              "ever_married           0\n",
              "work_type              0\n",
              "Residence_type         0\n",
              "avg_glucose_level      0\n",
              "bmi                  201\n",
              "smoking_status         0\n",
              "stroke                 0\n",
              "dtype: int64"
            ]
          },
          "metadata": {},
          "execution_count": 16
        }
      ]
    },
    {
      "cell_type": "code",
      "source": [
        "#duplicates\n",
        "df_stroke.duplicated().sum()"
      ],
      "metadata": {
        "colab": {
          "base_uri": "https://localhost:8080/"
        },
        "id": "q2GoJr8Rloms",
        "outputId": "4f1b98b3-4fe6-4f53-f492-a8f6d9d78b37"
      },
      "execution_count": 18,
      "outputs": [
        {
          "output_type": "execute_result",
          "data": {
            "text/plain": [
              "0"
            ]
          },
          "metadata": {},
          "execution_count": 18
        }
      ]
    },
    {
      "cell_type": "markdown",
      "source": [
        "**What, if any, challenges do you foresee in cleaning, exploring, or modeling this dataset?** \n",
        "- There weight for the target column is highly favorable to the 0 or no stroke. This will present a challenge to try and balance the data to get the best model to predict a stroke. We will also have to deal with the missing values in the bmi column."
      ],
      "metadata": {
        "id": "79zyf42Vkkg7"
      }
    },
    {
      "cell_type": "markdown",
      "source": [
        "#**Second Choice Dataset**"
      ],
      "metadata": {
        "id": "lYgTFcZChAAo"
      }
    },
    {
      "cell_type": "markdown",
      "source": [
        "## About the first choice dataset"
      ],
      "metadata": {
        "id": "irLmeepMhD7U"
      }
    },
    {
      "cell_type": "markdown",
      "source": [
        "Cirrhosis is a late stage of scarring (fibrosis) of the liver caused by many forms of liver diseases and conditions, such as hepatitis and chronic alcoholism. The following data contains the information collected from the Mayo Clinic trial in primary biliary cirrhosis (PBC) of the liver conducted between 1974 and 1984. A description of the clinical background for the trial and the covariates recorded here is in Chapter 0, especially Section 0.2 of Fleming and Harrington, Counting\n",
        "Processes and Survival Analysis, Wiley, 1991. A more extended discussion can be found in Dickson, et al., Hepatology 10:1-7 (1989) and in Markus, et al., N Eng J of Med 320:1709-13 (1989).\n",
        "\n",
        "A total of 424 PBC patients, referred to Mayo Clinic during that ten-year interval, met eligibility criteria for the randomized placebo-controlled trial of the drug D-penicillamine. The first 312 cases in the dataset participated in the randomized trial and contain largely complete data. The additional 112 cases did not participate in the clinical trial but consented to have basic measurements recorded and to be followed for survival. Six of those cases were lost to follow-up shortly after diagnosis, so the data here are on an additional 106 cases as well as the 312 randomized participants.\n",
        "\n",
        "Attribute Information\n",
        "- 1) ID: unique identifier\n",
        "- 2) N_Days: number of days between registration and the earlier of death, transplantation, or study analysis time in July 1986\n",
        "- 3) Status: status of the patient C (censored), CL (censored due to liver tx), or D (death)\n",
        "- 4) Drug: type of drug D-penicillamine or placebo\n",
        "- 5) Age: age in [days]\n",
        "- 6) Sex: M (male) or F (female)\n",
        "- 7) Ascites: presence of ascites N (No) or Y (Yes)\n",
        "- 8) Hepatomegaly: presence of hepatomegaly N (No) or Y (Yes)\n",
        "- 9) Spiders: presence of spiders N (No) or Y (Yes)\n",
        "- 10) Edema: presence of edema N (no edema and no diuretic therapy for edema), S (edema present without diuretics, or edema resolved by diuretics), or Y (edema despite diuretic therapy)\n",
        "- 11) Bilirubin: serum bilirubin in [mg/dl]\n",
        "- 12) Cholesterol: serum cholesterol in [mg/dl]\n",
        "- 13) Albumin: albumin in [gm/dl]\n",
        "- 14) Copper: urine copper in [ug/day]\n",
        "- 15) Alk_Phos: alkaline phosphatase in [U/liter]\n",
        "- 16) SGOT: SGOT in [U/ml]\n",
        "- 17) Triglycerides: triglicerides in [mg/dl]\n",
        "- 18) Platelets: platelets per cubic [ml/1000]\n",
        "- 19) Prothrombin: prothrombin time in seconds [s]\n",
        "- 20) Stage: histologic stage of disease (1, 2, 3, or 4)"
      ],
      "metadata": {
        "id": "lgXBxWdqhQND"
      }
    },
    {
      "cell_type": "markdown",
      "source": [
        "*   Source: Kaggle Cirrhosis Prediction Dataset\n",
        "*   Data: [Cirrhosis Prediction CSV](https://github.com/evany24/Stroke-Prediction/blob/main/cirrhosis.csv)"
      ],
      "metadata": {
        "id": "9Qa1MxJJhnux"
      }
    },
    {
      "cell_type": "markdown",
      "source": [
        "**Target:** Stage: histologic stage of disease (1, 2, 3, or 4)\n",
        "\n",
        "**What does one row represent?** A person\n",
        "\n",
        "**Is this a classification or regression problem?** Classification"
      ],
      "metadata": {
        "id": "g1Y8Xb7rh9jP"
      }
    },
    {
      "cell_type": "code",
      "source": [
        "#load data\n",
        "df_liver = pd.read_csv('/content/drive/MyDrive/cirrhosis.csv')\n",
        "df_liver.info()"
      ],
      "metadata": {
        "colab": {
          "base_uri": "https://localhost:8080/"
        },
        "id": "6mBznB1BjfLW",
        "outputId": "ffaa59d9-b346-4584-c66a-f347157f9806"
      },
      "execution_count": 9,
      "outputs": [
        {
          "output_type": "stream",
          "name": "stdout",
          "text": [
            "<class 'pandas.core.frame.DataFrame'>\n",
            "RangeIndex: 418 entries, 0 to 417\n",
            "Data columns (total 20 columns):\n",
            " #   Column         Non-Null Count  Dtype  \n",
            "---  ------         --------------  -----  \n",
            " 0   ID             418 non-null    int64  \n",
            " 1   N_Days         418 non-null    int64  \n",
            " 2   Status         418 non-null    object \n",
            " 3   Drug           312 non-null    object \n",
            " 4   Age            418 non-null    int64  \n",
            " 5   Sex            418 non-null    object \n",
            " 6   Ascites        312 non-null    object \n",
            " 7   Hepatomegaly   312 non-null    object \n",
            " 8   Spiders        312 non-null    object \n",
            " 9   Edema          418 non-null    object \n",
            " 10  Bilirubin      418 non-null    float64\n",
            " 11  Cholesterol    284 non-null    float64\n",
            " 12  Albumin        418 non-null    float64\n",
            " 13  Copper         310 non-null    float64\n",
            " 14  Alk_Phos       312 non-null    float64\n",
            " 15  SGOT           312 non-null    float64\n",
            " 16  Tryglicerides  282 non-null    float64\n",
            " 17  Platelets      407 non-null    float64\n",
            " 18  Prothrombin    416 non-null    float64\n",
            " 19  Stage          412 non-null    float64\n",
            "dtypes: float64(10), int64(3), object(7)\n",
            "memory usage: 65.4+ KB\n"
          ]
        }
      ]
    },
    {
      "cell_type": "markdown",
      "source": [
        "**How many features does the data have? How many rows?**"
      ],
      "metadata": {
        "id": "PmG5OWX8jq8r"
      }
    },
    {
      "cell_type": "code",
      "source": [
        "#display rows and columns\n",
        "df_liver.shape\n",
        "print(f'There are {df_liver.shape[0]} rows and {df_liver.shape[1]} columns')\n",
        "print(f'The {df_liver.shape[0]} rows represent the data values of the features and target.\\nThe columns represent {df_liver.shape[1]-1} features and the target stage.')"
      ],
      "metadata": {
        "colab": {
          "base_uri": "https://localhost:8080/"
        },
        "id": "XrC8vw6NjuTA",
        "outputId": "17b8551c-28d1-49ff-df73-ec40f5ffbc16"
      },
      "execution_count": 10,
      "outputs": [
        {
          "output_type": "stream",
          "name": "stdout",
          "text": [
            "There are 418 rows and 20 columns\n",
            "The 418 rows represent the data values of the features and target.\n",
            "The columns represent 19 features and the target stage.\n"
          ]
        }
      ]
    },
    {
      "cell_type": "code",
      "source": [
        "#target column numbers\n",
        "df_liver['Stage'].value_counts()"
      ],
      "metadata": {
        "colab": {
          "base_uri": "https://localhost:8080/"
        },
        "id": "c-FOpfeKlzM1",
        "outputId": "3b6c4515-ad38-46f8-d7bd-0e5ad6000283"
      },
      "execution_count": 20,
      "outputs": [
        {
          "output_type": "execute_result",
          "data": {
            "text/plain": [
              "3.0    155\n",
              "4.0    144\n",
              "2.0     92\n",
              "1.0     21\n",
              "Name: Stage, dtype: int64"
            ]
          },
          "metadata": {},
          "execution_count": 20
        }
      ]
    },
    {
      "cell_type": "code",
      "source": [
        "#missing values\n",
        "df_liver.isna().sum()"
      ],
      "metadata": {
        "colab": {
          "base_uri": "https://localhost:8080/"
        },
        "id": "tqeJ39sxl9Y6",
        "outputId": "1e82c1ec-9476-4933-861b-8a2785213a41"
      },
      "execution_count": 21,
      "outputs": [
        {
          "output_type": "execute_result",
          "data": {
            "text/plain": [
              "ID                 0\n",
              "N_Days             0\n",
              "Status             0\n",
              "Drug             106\n",
              "Age                0\n",
              "Sex                0\n",
              "Ascites          106\n",
              "Hepatomegaly     106\n",
              "Spiders          106\n",
              "Edema              0\n",
              "Bilirubin          0\n",
              "Cholesterol      134\n",
              "Albumin            0\n",
              "Copper           108\n",
              "Alk_Phos         106\n",
              "SGOT             106\n",
              "Tryglicerides    136\n",
              "Platelets         11\n",
              "Prothrombin        2\n",
              "Stage              6\n",
              "dtype: int64"
            ]
          },
          "metadata": {},
          "execution_count": 21
        }
      ]
    },
    {
      "cell_type": "code",
      "source": [
        "#duplicates\n",
        "df_liver.duplicated().sum()"
      ],
      "metadata": {
        "colab": {
          "base_uri": "https://localhost:8080/"
        },
        "id": "ruANTzuomHrl",
        "outputId": "e9b34a79-5a9a-4521-e281-f050162f714a"
      },
      "execution_count": 22,
      "outputs": [
        {
          "output_type": "execute_result",
          "data": {
            "text/plain": [
              "0"
            ]
          },
          "metadata": {},
          "execution_count": 22
        }
      ]
    },
    {
      "cell_type": "markdown",
      "source": [
        "**What, if any, challenges do you foresee in cleaning, exploring, or modeling this dataset?** \n",
        "- A lot of the columns have missing values so we will need to find the best approach in dealing with the missing values. We may have to drop some columns but hopefully we are able to impute values using the best possible techniques. If we use best practices for dealing with missing values we will be able to create a model to predict the target stage of the disease."
      ],
      "metadata": {
        "id": "UjsdNnj-mTL2"
      }
    }
  ]
}